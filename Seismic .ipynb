#!/usr/bin/env python
# coding: utf-8

# # Table of Time Distance

# In[1]:


x=[2,4,6,8,10,12,14,16,18,20,22,24]
t=[0.005,0.011,0.014,0.020,0.025,0.028,0.031,0.033,0.034,0.036,0.037,0.039]
s=[0,1,2,3,4,5,6,7,8,9,10,11]
 


# In[2]:



for i in range(len(x)):
    def timedistance(x,t):
        print(x,"    ", t)


# In[3]:


print("distance", "time")
for i in range(len(x)):
    timedistance(x[i],t[i])


# # Time Distance Square

# In[4]:


plotxsq=[]
plottsq=[]
for j in range(len(x)):
    def timedistancesq(j,x,t):
        xsq=x*x
        tsq=round(t*t,5)
        print(j,"        ",xsq,"     ",tsq)
        plotxsq.append(xsq)
        plottsq.append(tsq)
        


# In[5]:


print("Serial ","distance", "   time")
for j in range(len(x)):
    timedistancesq(j,x[j],t[j])


# # Plotting Graph

# In[6]:


import matplotlib.pyplot as plt
import math
import numpy as np
from sklearn.linear_model import LinearRegression


# In[7]:


plt.scatter(x,t)
for i in range(len(x)):
    plt.text(x[i],t[i],i)


# # Direct wave Data points

# In[8]:


def direct(S,E):
    a=x[S:(E+1)]
    b=t[S:(E+1)]
    print(f"direct wave distance = {a}","\n")
    print(f"direct wave travel time  = {b}","\n")
    plt.scatter(a,b,marker="o",color="r")
    for i in range(len(a)):
        plt.text(x[i+S],t[i+S],i+S)
    a1=np.array(a).reshape((-1, 1))
    b=np.array(b)
    reg=LinearRegression()
    model=reg.fit(a1,b)
    predict=reg.predict(a1)
    plt.scatter(a1,b)
    plt.plot(a1,predict,color="red")
    plt.show()
    c=reg.intercept_
    print(f"intercept of straight line = {c}")


# In[9]:


#picking up the points to make straight lines.
#straight line 1 = direct travel wave
directstart=int(input("Enter the pick up starting point = "))
directterminate=int(input("Enter the pick up ending point = "))
_directstart=directstart
_directterminate=directterminate
direct(directstart,directterminate)


# # Refracted wave Data points

# In[10]:



def refract(S,E):
    a=x[S:(E+1)]
    b=t[S:(E+1)]
    print(f"refract wave distance = {a}","\n")
    print(f"refract wave travel time = {b}","\n")
    plt.scatter(a,b,marker="x",color="g")
    for i in range(len(a)):
        plt.text(x[i+S],t[i+S],i+S)
    a1=np.array(a).reshape((-1, 1))
    b=np.array(b)
    reg=LinearRegression()
    model=reg.fit(a1,b)
    predict=reg.predict(a1)
    plt.scatter(a1,b)
    plt.plot(a1,predict,color="red")
    plt.show()
    c=reg.intercept_
    print(f"intercept of straight line = {c}")
    
    
    
             
    


# In[11]:


#picking up the points to make straight lines.
#straight line2  = refracted travel wave
refractstart=int(input("Enter the pick up starting point = "))
refractterminate=int(input("Enter the pick up ending point = "))
_refractstart=refractstart
_refractterminate=refractterminate
refract(refractstart,refractterminate)


# # Slope Line of direct wave and refracted wave

# # Intersection of two datapoints

# In[12]:



reg1=LinearRegression()
reg2=LinearRegression()
a1=np.array(x[_directstart:_directterminate+1]).reshape([-1,1])
t1=np.array(t[_directstart:_directterminate+1])
a2=np.array(x[_refractstart:_refractterminate+1]).reshape([-1,1])
t2=np.array(t[_refractstart:_refractterminate+1])
model1=reg1.fit(a1,t1)
model2=reg2.fit(a2,t2)
predict1=reg1.predict(a1)
predict2=reg2.predict(a2)
plt.plot(a1,predict1,color="yellow")
plt.scatter(a1,t1)
plt.plot(a2,predict2,color="red")
plt.scatter(a2,t2)
plt.show()
c1=reg1.intercept_
c2=reg2.intercept_
print(f"The intercept of direct wave = {c1} ")
print(f"The intercept of refracted wave = {c2}")


# In[13]:


plt.plot(a2,predict2,color="red",marker="x")
plt.plot(a1,predict1,color="blue",marker="x")


# In[14]:


def xintersect(_directterminate):
    if _refractstart==_directterminate:
        xintersect=[]
        for i in range(len(x)):
            xintersect.append(x[_directterminate])
        plt.plot(xintersect,t)
        plt.scatter(x,t)
    
       
        
        
    
            


# In[15]:


xintersect(_directterminate)


# In[16]:


x1=np.array(x[_refractstart:_refractterminate]).reshape((-1, 1))
t1=np.array(t[_refractstart:_refractterminate])
reg=LinearRegression()
model=reg.fit(x1,t1)
print(model.intercept_)


# In[17]:


x[_refractstart:_refractterminate]


# In[18]:


t[_refractstart:_refractterminate]


# # Velocity of direct wave

# In[19]:



def veldirect(x1,t1,x2,t2):
    global directvelo
    print(f"The distance of {x1} and {x2} is taken")
    print(f"The time of {t1} and {t2} is taken")
    directvelo=((x2-x1)/(t2-t1))
    print(f"The velocity between the two travel time is {round(directvelo,4)}")


# In[20]:


veldirect(x[_directstart],t[_directstart],x[_directterminate],t[_directterminate])


# # Velocity of refracted wave

# In[21]:


def velrefract(x1,t1,x2,t2):
    global refractvelo
    print(f"The distance of {x1} and {x2} is taken")
    print(f"The time of {t1} and {t2} is taken")
    refractvelo=1/((t2-t1)/(x2-x1))
    print(f"The velocity between the two travel time is {round(refractvelo,4)}")
    


# In[22]:



velrefract(x[_refractstart],t[_refractstart],x[_refractterminate],t[_refractterminate])


# # Determining the thickness of layer on the base of critical distance

# In[23]:


def thickness(v1,v2,Xcrit):
    tanic= v1/math.sqrt((v2*v2)-(v1*v1))
    Thickness = (Xcrit*tanic)/2
    print(f"The thickness of layer is = {round(Thickness,3)}")
    


# In[24]:



Xcrit = float(input("The minimum distance between reciever and source = "))
thickness(directvelo,refractvelo,Xcrit)


# # Direct wave travel time

# In[25]:


def directwave(x,v1):
    td=x/v1
    print(f"the time travel of direct wave = {round(td,3)}")
    


# In[26]:


distance=float(input("Distance between the source and reciever = "))

directwave(distance,directvelo)


# # Determining the thickness of layer on the base of crossing distance

# In[27]:


def crossing(xc,v1,v2):
    thickness=(xc/2)*math.sqrt((v2-v1)/(v2+v1))
    print(f" Thickness of the layer is = {thickness}")
    


# In[28]:


xcross = x[_directterminate]
crossing(xcross,directvelo,refractvelo)


# # Determing the thickness of layer on the base of Intercept Time

# In[29]:


def intercept(T1,v1,v2):
    thickness=(T1*v1*v2)/(2*math.sqrt((v2*v2)-(v1*v1)))
    print(f" The thickness of the layer is = {thickness}")
                          


# In[30]:


c=round(c2,3)
intercept(c,directvelo,refractvelo)



# # Relationship between Intercept Time and Crossing Distance

# In[31]:


def interval(Xcrit,Xc,v1,v2):
    Xcrit=v1
    Xc=v1+v2
    if Xcrit<Xc:
        print("It proves that first arrival on seismogram is direct wave")
    else:
        print("you are doing wrong, critical distance is always less than cross distance")


# In[32]:


critical=int(input("The minimum distance between source and reciever = "))
crossing=int(input("The crossing distance ="))
interval(critical,crossing,directvelo,refractvelo)


# # Delay Time

# In[33]:


def delay(x,v2,t):
    deltatx=t-(x/v2)
    print(f"The delay time = {deltatx}")


# In[34]:


print(f"These are the serial number of refracted waves reciever pickers = {s[_refractstart:_refractterminate+1]}")
i=int(input("The serial number of reciever you want to know whether the first arrival is refracted or not = "))
print(f"The distance of reciever to source is = {x[i]}")
print(f"These are the travel times of refracted waves = {t[_directterminate:]}")
print(f"The time interval of refracted wave of this reciever is automatically picked = {t[i]}")
delay(x[i],refractvelo,t[i])


# # .............................................................................................................................
# 

# # Multilayer path refractions

# In[36]:


rays=int(input("How many time rays pass through the boundary = "))


# In[37]:


def velocity(i):
    global velocities
    velocities=[]
    for j in range(0,i):
        V=int(input("what is the velocity of V = "))
        velocities.append(V)
    
    


# In[38]:


velocity(rays)
    


# In[39]:


velocities


# In[51]:


def snellslaw(angle):
        Theta1=int(input("Enter the angle of incidence of ray = "))
        Theta2=math.degrees(math.asin(velocities[angle-2]*math.sin(math.radians(Theta1))/velocities[angle-1]))
        print(f"The angle of refracted ray = {round(Theta2,3)}")
        


# In[52]:


snellslaw(len(velocities))


# In[ ]:


def snellslaw(angle):
    angleofrefraction=[]
    if angle==2:
        Theta1=int(input("Enter the angle of incidence of ray = "))
        Theta2=math.degrees(math.asin(velocities[angle-1*math.sin(math.radians(Theta1))/velocities[angle-(i+1)]))
        anglesofrefraction.append(Theta1)
        anglesofrefraction.append(Theta2)
    elif angle>2:
        for j in range(3,angle+1):
            Theta=math.degrees(math.asin(angleofrefraction[j-1]*math.sin(math.radians
        
        print(f"The angle of refracted ray = {round(Theta2,3)}")


# In[ ]:


Theta2=math.degrees(math.asin(velocities[angle-i]*math.sin(math.radians(Theta1))/velocities[angle-(i+1)]))

